{
  "cells": [
    {
      "cell_type": "code",
      "execution_count": null,
      "metadata": {
        "id": "rIt0ikMFYd3b"
      },
      "outputs": [],
      "source": [
        "import numpy as np\n",
        "from sklearn import datasets\n",
        "from random import randint, random\n",
        "\n",
        "iris = datasets.load_iris()\n",
        "X = iris.data[:, :]\n",
        "Y = iris.target"
      ]
    },
    {
      "cell_type": "code",
      "execution_count": null,
      "metadata": {
        "id": "H1-YCIvgYqFH"
      },
      "outputs": [],
      "source": [
        "def Solucion_Vecina(Sol_act, Costo_act, Temp):  \n",
        "  a = randint(0,len(Sol_act))\n",
        "  Mov1 = np.copy(Sol_act[a])\n",
        "  b = random()\n",
        "\n",
        "  if b < 0.5: #Si la probabilidad es menor a 0.5, se realiza una pequeña mutación\n",
        "    Sol_act[a] = (Sol_act[a] + 1) % 3\n",
        "  else:\n",
        "    Sol_act[a] = (Sol_act[a] - 1) %3\n",
        "\n",
        "  Costo_Vecino = objetivo(Sol_act) #Declarar Funcion objetivo\n",
        "\n",
        "  v = Costo_Vecino - Costo_act\n",
        "  b = random()\n",
        "\n",
        "  if b < np.exp(-v/Temp): #Criterio de Metrópolis uwu\n",
        "    Costo_act = Costo_Vecino\n",
        "  else:\n",
        "    Sol_act[a] = Mov1\n",
        "    \n",
        "  return Costo_Vecino, Sol_act"
      ]
    },
    {
      "cell_type": "code",
      "execution_count": null,
      "metadata": {
        "id": "ygK2GScvuA8_"
      },
      "outputs": [],
      "source": [
        "#Main\n",
        "\n",
        "\n",
        "#TInicial=100\n",
        "#TFinal= 0.001\n",
        "#Temp=TInicial;\n",
        "#Iteraciones=100\n",
        "#Factor enfriamiento=0.95\n",
        "#Mejor_solucion\n",
        "#Valor_MejorSol\n",
        "#Solucion=Solucion_Aleatoria\n",
        "#mejorobjetivo=objetivo_solucioninicial\n",
        "#Evaluar solucion aleatoria\n",
        "#While Temp > TFinal\n",
        "      #for i=1 hasta Iteraciones\n",
        "\n",
        "      #genero un vecino\n",
        "      #Empleo Metropolis\n",
        "      #Actualizo la solución actual\n",
        "#    fin for\n",
        "#Temp=Temp*Factor_enfriamiento.\n",
        "#   "
      ]
    },
    {
      "cell_type": "code",
      "execution_count": null,
      "metadata": {
        "id": "182z8zo-ZRl6"
      },
      "outputs": [],
      "source": [
        "def objetivo(Solucion,Obs):\n",
        "    C=np.zeros((3,4))\n",
        "    contador=np.zeros(3)\n",
        "    for i in range(3):\n",
        "        for j in range(150):\n",
        "            if(Solucion[j]==i):\n",
        "                C[i]+=Obs[j]\n",
        "                contador[i]+=1\n",
        "    for k in range(3):\n",
        "        C[i]=C[i]/contador[i]\n",
        "    distancia=0\n",
        "    for h in range(3):\n",
        "        for t in range(150):\n",
        "            if(Solucion[t]==h):\n",
        "                suma=0\n",
        "                for k in range(4):\n",
        "                    suma+=abs(C[h][k]-Obs[t][k])\n",
        "                distancia+= suma\n",
        "    return distancia"
      ]
    },
    {
      "cell_type": "code",
      "execution_count": null,
      "metadata": {
        "id": "4X6PCrgNc5C_"
      },
      "outputs": [],
      "source": [
        "import random\n",
        "def solucion_inicial():\n",
        "  A=np.zeros(150)\n",
        "  for i in range(150):\n",
        "    A[i]=random.randint(0,3)\n",
        "  return A"
      ]
    }
  ],
  "metadata": {
    "colab": {
      "provenance": []
    },
    "kernelspec": {
      "display_name": "Python 3",
      "name": "python3"
    },
    "language_info": {
      "name": "python"
    }
  },
  "nbformat": 4,
  "nbformat_minor": 0
}
