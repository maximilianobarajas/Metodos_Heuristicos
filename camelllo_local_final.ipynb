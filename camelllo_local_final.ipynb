{
 "cells": [
  {
   "cell_type": "code",
   "execution_count": 1,
   "metadata": {},
   "outputs": [],
   "source": [
    "import numpy as np\n",
    "#Definimos la función 1 sobre la cual trabajaremos.\n",
    "def camello(x,y):\n",
    "  return(((4-2.1*x**2+(x**4)/3)*x**2)+x*y+(-4+4*y**2)*y**2)\n",
    "def vector_aleatorio_normal(d):\n",
    "  return np.random.normal(loc= 0,scale=1,size=d) \n",
    "def vector_aleatorio_normal_en_el_espacio_de_x(x,s,d):\n",
    "    Q=x\n",
    "    for y in Q:\n",
    "      y=np.random.normal(y,s)\n",
    "    return Q\n",
    "def localcamello(n,s):\n",
    "  #Iniciamos la imagen minima como el vector que la induce\n",
    "  imagen=np.inf\n",
    "  xfinal=np.zeros(2)\n",
    "  x=vector_aleatorio_normal(1)\n",
    "  y=vector_aleatorio_normal(1)\n",
    "  #Realizamos el problema n veces\n",
    "  for i in range(n):\n",
    "    x=vector_aleatorio_normal_en_el_espacio_de_x(x,s,1)\n",
    "    y=vector_aleatorio_normal_en_el_espacio_de_x(y,s,1)\n",
    "    #Nuevamente, si la imagen de la iteración actual es menor a la anteriormente encontrada reasignamos la variable y guardamos el vector que la induce\n",
    "    f=camello(x,y)\n",
    "    if(f<imagen):\n",
    "      imagen=f\n",
    "      xfinal=np.array([x,y])\n",
    "  #Regresamos la imagen y el vector que la induce en una lista    \n",
    "  return [imagen,xfinal]\n",
    "\n",
    "def localcamello_alterado(s,iteraciones,repeticiones):\n",
    "  mejor=np.inf\n",
    "  for i in range(repeticiones):\n",
    "    A=localcamello(iteraciones,s)\n",
    "    if(A[0]<mejor):\n",
    "        mejor=A[0]\n",
    "        x=A[1]\n",
    "  return (mejor,x)\n",
    "\n",
    "def tabular_camello_30_veces(s,iteraciones,repeticiones):\n",
    "  L=[]\n",
    "  for i in range(30):\n",
    "    L.append(localcamello_alterado(s,iteraciones,repeticiones))\n",
    "  print(L)\n",
    "  return L\n",
    "#sol=tabular_camello_30_veces(0.01,10000,100)"
   ]
  },
  {
   "cell_type": "code",
   "execution_count": 4,
   "metadata": {},
   "outputs": [
    {
     "data": {
      "text/plain": [
       "[array([-1.02669221]),\n",
       " array([[-0.12569126],\n",
       "        [ 0.71542808]])]"
      ]
     },
     "execution_count": 4,
     "metadata": {},
     "output_type": "execute_result"
    }
   ],
   "source": [
    "localcamello(10000,0.01)"
   ]
  },
  {
   "cell_type": "code",
   "execution_count": 5,
   "metadata": {},
   "outputs": [
    {
     "data": {
      "text/plain": [
       "(array([-1.03162468]),\n",
       " array([[-0.08967144],\n",
       "        [ 0.71331387]]))"
      ]
     },
     "execution_count": 5,
     "metadata": {},
     "output_type": "execute_result"
    }
   ],
   "source": [
    "localcamello_alterado(0.01,10000,100)"
   ]
  },
  {
   "cell_type": "code",
   "execution_count": 6,
   "metadata": {},
   "outputs": [
    {
     "name": "stdout",
     "output_type": "stream",
     "text": [
      "[(array([-1.03162582]), array([[-0.08928809],\n",
      "       [ 0.7122026 ]])), (array([-1.03159588]), array([[-0.08695325],\n",
      "       [ 0.71229495]])), (array([-1.03159002]), array([[ 0.09234118],\n",
      "       [-0.71148735]])), (array([-1.03162553]), array([[-0.09066606],\n",
      "       [ 0.71289669]])), (array([-1.03162633]), array([[ 0.08942397],\n",
      "       [-0.7130505 ]])), (array([-1.03161612]), array([[-0.09066384],\n",
      "       [ 0.71161625]])), (array([-1.0316246]), array([[-0.09025704],\n",
      "       [ 0.71205786]])), (array([-1.03161646]), array([[ 0.09006353],\n",
      "       [-0.7138694 ]])), (array([-1.03160838]), array([[ 0.08757292],\n",
      "       [-0.71238435]])), (array([-1.03161145]), array([[ 0.09055591],\n",
      "       [-0.71405363]])), (array([-1.03160631]), array([[-0.08745288],\n",
      "       [ 0.71258853]])), (array([-1.03161417]), array([[ 0.08929824],\n",
      "       [-0.71135546]])), (array([-1.03162833]), array([[-0.08972278],\n",
      "       [ 0.71274201]])), (array([-1.03158041]), array([[-0.09067319],\n",
      "       [ 0.71505697]])), (array([-1.03160581]), array([[ 0.08914845],\n",
      "       [-0.71420559]])), (array([-1.03162415]), array([[-0.09085742],\n",
      "       [ 0.71291512]])), (array([-1.03161356]), array([[ 0.08961123],\n",
      "       [-0.71398038]])), (array([-1.03162537]), array([[-0.08903464],\n",
      "       [ 0.71234509]])), (array([-1.03162332]), array([[ 0.08917   ],\n",
      "       [-0.71325783]])), (array([-1.03162224]), array([[-0.08986326],\n",
      "       [ 0.71178624]])), (array([-1.03159577]), array([[ 0.08808474],\n",
      "       [-0.71095573]])), (array([-1.03161489]), array([[ 0.08856536],\n",
      "       [-0.71351966]])), (array([-1.03160593]), array([[ 0.09121113],\n",
      "       [-0.71137317]])), (array([-1.03158735]), array([[-0.09030365],\n",
      "       [ 0.71046352]])), (array([-1.03162108]), array([[ 0.08849208],\n",
      "       [-0.71277173]])), (array([-1.03152055]), array([[-0.08820798],\n",
      "       [ 0.70909584]])), (array([-1.03161368]), array([[-0.09112285],\n",
      "       [ 0.7117197 ]])), (array([-1.03160016]), array([[ 0.09254639],\n",
      "       [-0.71277373]])), (array([-1.03162131]), array([[ 0.08980453],\n",
      "       [-0.71171997]])), (array([-1.03162815]), array([[-0.09010578],\n",
      "       [ 0.71274135]]))]\n",
      "[(array([-1.03162582]), array([[-0.08928809],\n",
      "       [ 0.7122026 ]])), (array([-1.03159588]), array([[-0.08695325],\n",
      "       [ 0.71229495]])), (array([-1.03159002]), array([[ 0.09234118],\n",
      "       [-0.71148735]])), (array([-1.03162553]), array([[-0.09066606],\n",
      "       [ 0.71289669]])), (array([-1.03162633]), array([[ 0.08942397],\n",
      "       [-0.7130505 ]])), (array([-1.03161612]), array([[-0.09066384],\n",
      "       [ 0.71161625]])), (array([-1.0316246]), array([[-0.09025704],\n",
      "       [ 0.71205786]])), (array([-1.03161646]), array([[ 0.09006353],\n",
      "       [-0.7138694 ]])), (array([-1.03160838]), array([[ 0.08757292],\n",
      "       [-0.71238435]])), (array([-1.03161145]), array([[ 0.09055591],\n",
      "       [-0.71405363]])), (array([-1.03160631]), array([[-0.08745288],\n",
      "       [ 0.71258853]])), (array([-1.03161417]), array([[ 0.08929824],\n",
      "       [-0.71135546]])), (array([-1.03162833]), array([[-0.08972278],\n",
      "       [ 0.71274201]])), (array([-1.03158041]), array([[-0.09067319],\n",
      "       [ 0.71505697]])), (array([-1.03160581]), array([[ 0.08914845],\n",
      "       [-0.71420559]])), (array([-1.03162415]), array([[-0.09085742],\n",
      "       [ 0.71291512]])), (array([-1.03161356]), array([[ 0.08961123],\n",
      "       [-0.71398038]])), (array([-1.03162537]), array([[-0.08903464],\n",
      "       [ 0.71234509]])), (array([-1.03162332]), array([[ 0.08917   ],\n",
      "       [-0.71325783]])), (array([-1.03162224]), array([[-0.08986326],\n",
      "       [ 0.71178624]])), (array([-1.03159577]), array([[ 0.08808474],\n",
      "       [-0.71095573]])), (array([-1.03161489]), array([[ 0.08856536],\n",
      "       [-0.71351966]])), (array([-1.03160593]), array([[ 0.09121113],\n",
      "       [-0.71137317]])), (array([-1.03158735]), array([[-0.09030365],\n",
      "       [ 0.71046352]])), (array([-1.03162108]), array([[ 0.08849208],\n",
      "       [-0.71277173]])), (array([-1.03152055]), array([[-0.08820798],\n",
      "       [ 0.70909584]])), (array([-1.03161368]), array([[-0.09112285],\n",
      "       [ 0.7117197 ]])), (array([-1.03160016]), array([[ 0.09254639],\n",
      "       [-0.71277373]])), (array([-1.03162131]), array([[ 0.08980453],\n",
      "       [-0.71171997]])), (array([-1.03162815]), array([[-0.09010578],\n",
      "       [ 0.71274135]]))]\n"
     ]
    }
   ],
   "source": [
    "L=tabular_camello_30_veces(0.1,10000,100)\n",
    "print(L)"
   ]
  },
  {
   "cell_type": "code",
   "execution_count": 29,
   "metadata": {},
   "outputs": [
    {
     "name": "stdout",
     "output_type": "stream",
     "text": [
      "La imagen media es:  [-1.03160977]\n",
      "La desviación estandar de las imágenes es: 2.0925411469190135e-05\n",
      "La desviación estandar de las coordenadas es: [[ 2.38980893e-05]\n",
      " [-2.74525899e-04]]\n",
      "La media de las coordenadas es: [[0.08971163]\n",
      " [0.71244366]]\n",
      "El mejor minimo encontrado fue:  [-1.03162833]\n",
      "La diferencia entre el real y el mejor encontrado es:  [2.83278325e-05]\n",
      "La diferencia entre el real y el promedio es:  [9.77142949e-06]\n"
     ]
    }
   ],
   "source": [
    "import statistics as st\n",
    "#Ahora encontramos la media de las imágenes y cada coordenada\n",
    "import numpy as np\n",
    "imagenescamello=[]\n",
    "coordenadas=[]\n",
    "\n",
    "for i in L:\n",
    "    imagenescamello.append(i[0])\n",
    "    coordenadas.append(i[1])\n",
    "print(\"La imagen media es: \", np.mean(imagenescamello,axis=0))\n",
    "print(\"La desviación estandar de las imágenes es:\", np.std(imagenescamello))\n",
    "print(\"La desviación estandar de las coordenadas es:\", np.mean(coordenadas,axis=0))\n",
    "print(\"La media de las coordenadas es:\",np.std(coordenadas,axis=0))\n",
    "print(\"El mejor minimo encontrado fue: \", min(imagenescamello))\n",
    "print(\"La diferencia entre el real y el mejor encontrado es: \", -1.0316-min(imagenescamello))\n",
    "print(\"La diferencia entre el real y el promedio es: \",-1.0316-np.mean(imagenescamello,axis=0))"
   ]
  }
 ],
 "metadata": {
  "kernelspec": {
   "display_name": "Python 3.10.8 64-bit (microsoft store)",
   "language": "python",
   "name": "python3"
  },
  "language_info": {
   "codemirror_mode": {
    "name": "ipython",
    "version": 3
   },
   "file_extension": ".py",
   "mimetype": "text/x-python",
   "name": "python",
   "nbconvert_exporter": "python",
   "pygments_lexer": "ipython3",
   "version": "3.10.8"
  },
  "orig_nbformat": 4,
  "vscode": {
   "interpreter": {
    "hash": "f8ca15d83b6fb72cece3edcf60f6aa40d2cbdeb5c60e0f188ff8c7c65828fd00"
   }
  }
 },
 "nbformat": 4,
 "nbformat_minor": 2
}

