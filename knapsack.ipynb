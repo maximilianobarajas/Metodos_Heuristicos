{
  "nbformat": 4,
  "nbformat_minor": 0,
  "metadata": {
    "colab": {
      "provenance": []
    },
    "kernelspec": {
      "name": "python3",
      "display_name": "Python 3"
    },
    "language_info": {
      "name": "python"
    }
  },
  "cells": [
    {
      "cell_type": "code",
      "source": [
        "import numpy as np\n",
        "import random\n",
        "def calcular_pesoyvalor(solucion,pesos,valores):\n",
        "   peso=0\n",
        "   valor=0\n",
        "   for i in range(len(solucion)):\n",
        "      if(solucion[i]==1):\n",
        "        peso=peso+pesos[i]\n",
        "        valor=valor+valores[i]\n",
        "   return (peso,valor)\n",
        "def solucion_vecina(sol):\n",
        "    solvec=sol\n",
        "    x=random.randint(0, len(sol)-1)\n",
        "    if(sol[x]==0):\n",
        "        solvec[x]=1\n",
        "    else:\n",
        "        solvec[x]=0\n",
        "    return solvec\n",
        "def knapsack_local(n,pesos, valores,capacidad):\n",
        "   solucion=np.random.randint(2, size=len(valores))\n",
        "   mejor_valor=0\n",
        "   for i in range(n):\n",
        "      solucion=solucion_vecina(solucion)\n",
        "      x=calcular_pesoyvalor(solucion,pesos,valores)\n",
        "      if(x[0]<=capacidad and x[1]>mejor_valor):\n",
        "         mejor_peso=x[0]\n",
        "         mejor_valor=x[1]\n",
        "   return(mejor_peso,mejor_valor)\n",
        "def knapsack_local_alterado(n,pesos,valores,capacidad,repeticiones):\n",
        "   mejor_valor=0\n",
        "   for i in range(repeticiones):\n",
        "    A=knapsack_local(n,pesos,valores,capacidad)\n",
        "    if(A[0]<=capacidad and A[1]>=mejor_valor):\n",
        "       mejor_peso=A[0]\n",
        "       mejor_valor=A[1]\n",
        "   return(mejor_peso,mejor_valor)\n",
        "def tabular_knapsack_30_veces(n,pesos,valores,capacidad,repeticiones):\n",
        "   L=[]\n",
        "   for i in range(30):\n",
        "      L.append(knapsack_local_alterado(n,pesos,valores,capacidad,repeticiones))\n",
        "   return L"
      ],
      "metadata": {
        "id": "DEsaW-0p1CoS"
      },
      "execution_count": 3,
      "outputs": []
    },
    {
      "cell_type": "code",
      "source": [
        "knapsack_local_alterado(10000,[23, 31, 29, 44, 53, 38, 63, 85, 89, 82],[92, 57, 49, 68, 60, 43, 67, 84, 87, 72],165,100)"
      ],
      "metadata": {
        "colab": {
          "base_uri": "https://localhost:8080/"
        },
        "id": "RCbF8rFd1OWo",
        "outputId": "7c44df99-302c-4d83-d445-aa50eef31128"
      },
      "execution_count": null,
      "outputs": [
        {
          "output_type": "execute_result",
          "data": {
            "text/plain": [
              "(165, 309)"
            ]
          },
          "metadata": {},
          "execution_count": 2
        }
      ]
    },
    {
      "cell_type": "code",
      "source": [
        "L1=tabular_knapsack_30_veces(10000,[23, 31, 29, 44, 53, 38, 63, 85, 89, 82],[92, 57, 49, 68, 60, 43, 67, 84, 87, 72],165,100)"
      ],
      "metadata": {
        "id": "Z2o4MGFe1WNa"
      },
      "execution_count": null,
      "outputs": []
    },
    {
      "cell_type": "code",
      "source": [
        "print(L1)"
      ],
      "metadata": {
        "colab": {
          "base_uri": "https://localhost:8080/"
        },
        "id": "CISECsa62UMU",
        "outputId": "6361cc65-4685-40df-c576-b3ccbb8d5825"
      },
      "execution_count": 11,
      "outputs": [
        {
          "output_type": "stream",
          "name": "stdout",
          "text": [
            "[(165, 309), (165, 309), (165, 309), (165, 309), (165, 309), (165, 309), (165, 309), (165, 309), (165, 309), (165, 309), (165, 309), (165, 309), (165, 309), (165, 309), (165, 309), (165, 309), (165, 309), (165, 309), (165, 309), (165, 309), (165, 309), (165, 309), (165, 309), (165, 309), (165, 309), (165, 309), (165, 309), (165, 309), (165, 309), (165, 309)]\n"
          ]
        }
      ]
    },
    {
      "cell_type": "code",
      "source": [
        "def mejor_solucion(Sol):\n",
        "  mejor=Sol[0]\n",
        "  for i in Sol:\n",
        "    if(i[0]<=mejor[0] and i[1]>=mejor[1]):\n",
        "      mejor=i\n",
        "  return i"
      ],
      "metadata": {
        "id": "pCTXLFJP_p0q"
      },
      "execution_count": 4,
      "outputs": []
    },
    {
      "cell_type": "code",
      "source": [
        "import numpy as np\n",
        "LP=np.array(L1)\n",
        "print(\"Para P01\")\n",
        "print(\"La mejor solución es:\")\n",
        "print(mejor_solucion(L1))\n",
        "print(\"La solucion promedio es: \")\n",
        "print(np.mean(L1,axis=0))\n",
        "print(\"La desviación estandar es: \")\n",
        "print(np.std(L1,axis=0))\n",
        "print(\"La diferencia entre el optimo y el mejor es: \")\n",
        "print(165-mejor_solucion(L1)[0],309-mejor_solucion(L1)[1])\n",
        "print(\"La diferencia ente el optimo y el promedio es: \")\n",
        "print(165-np.mean(L1,axis=0)[0],309-np.mean(L1,axis=0)[1])"
      ],
      "metadata": {
        "colab": {
          "base_uri": "https://localhost:8080/"
        },
        "id": "KJPJ9Osz02g5",
        "outputId": "e11d1a9d-7783-46ab-a38d-29f36bf2a2d1"
      },
      "execution_count": 9,
      "outputs": [
        {
          "output_type": "stream",
          "name": "stdout",
          "text": [
            "Para P01\n",
            "La mejor solución es:\n",
            "(165, 309)\n",
            "La solucion promedio es: \n",
            "[165. 309.]\n",
            "La desviación estandar es: \n",
            "[0. 0.]\n",
            "La diferencia entre el optimo y el mejor es: \n",
            "0 0\n",
            "La diferencia ente el optimo y el promedio es: \n",
            "0.0 0.0\n"
          ]
        }
      ]
    },
    {
      "cell_type": "code",
      "source": [
        "def leer_caso(nombre_archivo):\n",
        "    f = open(nombre_archivo, 'r')\n",
        "    contenido = f.read()\n",
        "    f.close()\n",
        "    numeros = contenido.split()\n",
        "    capacidad = int(numeros[0])\n",
        "    n = int(numeros[1])\n",
        "    peso = [0 for x in range(n)]\n",
        "    valor = [0 for x in range(n)]\n",
        "    solucion = [0 for x in range(n)]\n",
        "    k = 2\n",
        "    for i in range(n):\n",
        "        peso[i] = int(numeros[k])\n",
        "        valor[i] = int(numeros[k+1])\n",
        "        solucion[i] = int(numeros[k+2])\n",
        "        k = k+3\n",
        "    mejor_peso = int(numeros[k])\n",
        "    mejor_valor = int(numeros[k+1])\n",
        "    return capacidad, peso, valor, solucion, mejor_peso, mejor_valor"
      ],
      "metadata": {
        "id": "bsnfaOTM2Y1z"
      },
      "execution_count": 2,
      "outputs": []
    },
    {
      "cell_type": "code",
      "source": [
        "caso2=leer_caso(\"P07.txt\")\n",
        "caso2"
      ],
      "metadata": {
        "colab": {
          "base_uri": "https://localhost:8080/"
        },
        "id": "TdEq967U1f9B",
        "outputId": "c5c8357f-7feb-4edb-8170-5519e8cbc665"
      },
      "execution_count": null,
      "outputs": [
        {
          "output_type": "execute_result",
          "data": {
            "text/plain": [
              "(750,\n",
              " [70, 73, 77, 80, 82, 87, 90, 94, 98, 106, 110, 113, 115, 118, 120],\n",
              " [135, 139, 149, 150, 156, 163, 173, 184, 192, 201, 210, 214, 221, 229, 240],\n",
              " [1, 0, 1, 0, 1, 0, 1, 1, 1, 0, 0, 0, 0, 1, 1],\n",
              " 749,\n",
              " 1458)"
            ]
          },
          "metadata": {},
          "execution_count": 7
        }
      ]
    },
    {
      "cell_type": "code",
      "source": [
        "knapsack_local_alterado(10000,[70, 73, 77, 80, 82, 87, 90, 94, 98, 106, 110, 113, 115, 118, 120],\n",
        " [135, 139, 149, 150, 156, 163, 173, 184, 192, 201, 210, 214, 221, 229, 240],750,100)"
      ],
      "metadata": {
        "colab": {
          "base_uri": "https://localhost:8080/"
        },
        "id": "lFFZpfvU2gxT",
        "outputId": "d739a9f8-fa92-492b-8d14-f76af4296307"
      },
      "execution_count": null,
      "outputs": [
        {
          "output_type": "execute_result",
          "data": {
            "text/plain": [
              "(749, 1458)"
            ]
          },
          "metadata": {},
          "execution_count": 13
        }
      ]
    },
    {
      "cell_type": "code",
      "source": [
        "LP=tabular_knapsack_30_veces(10000,[70, 73, 77, 80, 82, 87, 90, 94, 98, 106, 110, 113, 115, 118, 120],\n",
        " [135, 139, 149, 150, 156, 163, 173, 184, 192, 201, 210, 214, 221, 229, 240],750,100)\n",
        "LP"
      ],
      "metadata": {
        "colab": {
          "base_uri": "https://localhost:8080/"
        },
        "id": "hTZqDBQc3xqy",
        "outputId": "fae8f2e0-2caa-4c7f-8742-9402e98f57b2"
      },
      "execution_count": null,
      "outputs": [
        {
          "output_type": "execute_result",
          "data": {
            "text/plain": [
              "[(749, 1458),\n",
              " (749, 1458),\n",
              " (749, 1458),\n",
              " (749, 1458),\n",
              " (749, 1458),\n",
              " (749, 1458),\n",
              " (749, 1458),\n",
              " (749, 1458),\n",
              " (749, 1458),\n",
              " (749, 1458),\n",
              " (749, 1458),\n",
              " (749, 1458),\n",
              " (749, 1458),\n",
              " (749, 1458),\n",
              " (749, 1458),\n",
              " (749, 1458),\n",
              " (749, 1458),\n",
              " (749, 1458),\n",
              " (749, 1458),\n",
              " (749, 1458),\n",
              " (749, 1458),\n",
              " (749, 1458),\n",
              " (749, 1458),\n",
              " (749, 1458),\n",
              " (749, 1458),\n",
              " (749, 1458),\n",
              " (749, 1458),\n",
              " (749, 1458),\n",
              " (749, 1458),\n",
              " (749, 1458)]"
            ]
          },
          "metadata": {},
          "execution_count": 19
        }
      ]
    },
    {
      "cell_type": "code",
      "source": [
        "import numpy as np\n",
        "LP=np.array(LP)\n",
        "print(\"Para P07\")\n",
        "print(\"La mejor solución es:\")\n",
        "print(mejor_solucion(LP))\n",
        "print(\"La solucion promedio es: \")\n",
        "print(np.mean(LP,axis=0))\n",
        "print(\"La desviación estandar es: \")\n",
        "print(np.std(LP,axis=0))\n",
        "print(\"La diferencia entre el optimo y el mejor es: \")\n",
        "print(749-mejor_solucion(LP)[0],1458-mejor_solucion(LP)[1])\n",
        "print(\"La diferencia ente el optimo y el promedio es: \")\n",
        "print(749-np.mean(LP,axis=0)[0],1458-np.mean(LP,axis=0)[1])"
      ],
      "metadata": {
        "colab": {
          "base_uri": "https://localhost:8080/"
        },
        "id": "nFpusz3A9uAj",
        "outputId": "7f544cef-42d9-4cf4-de65-ca4fdb282c81"
      },
      "execution_count": 6,
      "outputs": [
        {
          "output_type": "stream",
          "name": "stdout",
          "text": [
            "Para P07\n",
            "La mejor solución es:\n",
            "[ 749 1458]\n",
            "La solucion promedio es: \n",
            "[ 749. 1458.]\n",
            "La desviación estandar es: \n",
            "[0. 0.]\n",
            "La diferencia entre el optimo y el mejor es: \n",
            "0 0\n",
            "La diferencia ente el optimo y el promedio es: \n",
            "0.0 0.0\n"
          ]
        }
      ]
    },
    {
      "cell_type": "code",
      "source": [
        "caso3=leer_caso(\"P08.txt\")\n",
        "caso3"
      ],
      "metadata": {
        "colab": {
          "base_uri": "https://localhost:8080/"
        },
        "id": "lIgVqvD14DR3",
        "outputId": "a02b582c-a131-4f0f-aa7c-19a1bb50dc82"
      },
      "execution_count": null,
      "outputs": [
        {
          "output_type": "execute_result",
          "data": {
            "text/plain": [
              "(6404180,\n",
              " [382745,\n",
              "  799601,\n",
              "  909247,\n",
              "  729069,\n",
              "  467902,\n",
              "  44328,\n",
              "  34610,\n",
              "  698150,\n",
              "  823460,\n",
              "  903959,\n",
              "  853665,\n",
              "  551830,\n",
              "  610856,\n",
              "  670702,\n",
              "  488960,\n",
              "  951111,\n",
              "  323046,\n",
              "  446298,\n",
              "  931161,\n",
              "  31385,\n",
              "  496951,\n",
              "  264724,\n",
              "  224916,\n",
              "  169684],\n",
              " [825594,\n",
              "  1677009,\n",
              "  1676628,\n",
              "  1523970,\n",
              "  943972,\n",
              "  97426,\n",
              "  69666,\n",
              "  1296457,\n",
              "  1679693,\n",
              "  1902996,\n",
              "  1844992,\n",
              "  1049289,\n",
              "  1252836,\n",
              "  1319836,\n",
              "  953277,\n",
              "  2067538,\n",
              "  675367,\n",
              "  853655,\n",
              "  1826027,\n",
              "  65731,\n",
              "  901489,\n",
              "  577243,\n",
              "  466257,\n",
              "  369261],\n",
              " [1, 1, 0, 1, 1, 1, 0, 0, 0, 1, 1, 0, 1, 0, 0, 1, 0, 0, 0, 0, 0, 1, 1, 1],\n",
              " 6402560,\n",
              " 13549094)"
            ]
          },
          "metadata": {},
          "execution_count": 12
        }
      ]
    },
    {
      "cell_type": "code",
      "source": [
        "L2=tabular_knapsack_30_veces(10000,[382745,\n",
        "  799601,\n",
        "  909247,\n",
        "  729069,\n",
        "  467902,\n",
        "  44328,\n",
        "  34610,\n",
        "  698150,\n",
        "  823460,\n",
        "  903959,\n",
        "  853665,\n",
        "  551830,\n",
        "  610856,\n",
        "  670702,\n",
        "  488960,\n",
        "  951111,\n",
        "  323046,\n",
        "  446298,\n",
        "  931161,\n",
        "  31385,\n",
        "  496951,\n",
        "  264724,\n",
        "  224916,\n",
        "  169684],\n",
        " [825594,\n",
        "  1677009,\n",
        "  1676628,\n",
        "  1523970,\n",
        "  943972,\n",
        "  97426,\n",
        "  69666,\n",
        "  1296457,\n",
        "  1679693,\n",
        "  1902996,\n",
        "  1844992,\n",
        "  1049289,\n",
        "  1252836,\n",
        "  1319836,\n",
        "  953277,\n",
        "  2067538,\n",
        "  675367,\n",
        "  853655,\n",
        "  1826027,\n",
        "  65731,\n",
        "  901489,\n",
        "  577243,\n",
        "  466257,\n",
        "  369261],6404180,100)\n",
        "L2"
      ],
      "metadata": {
        "colab": {
          "base_uri": "https://localhost:8080/"
        },
        "id": "Z3CpJsVd4J1V",
        "outputId": "c7efe66f-1e75-4881-f244-a3a83b133207"
      },
      "execution_count": null,
      "outputs": [
        {
          "output_type": "execute_result",
          "data": {
            "text/plain": [
              "[(6397040, 13497192),\n",
              " (6397040, 13497192),\n",
              " (6402623, 13496748),\n",
              " (6389705, 13473708),\n",
              " (6392842, 13521334),\n",
              " (6398128, 13518963),\n",
              " (6398529, 13477838),\n",
              " (6398128, 13518963),\n",
              " (6403254, 13489043),\n",
              " (6402223, 13475452),\n",
              " (6392842, 13521334),\n",
              " (6402560, 13549094),\n",
              " (6400029, 13485108),\n",
              " (6392842, 13521334),\n",
              " (6401588, 13491239),\n",
              " (6396544, 13494864),\n",
              " (6393262, 13470953),\n",
              " (6383545, 13482886),\n",
              " (6375373, 13459221),\n",
              " (6389617, 13517399),\n",
              " (6395304, 13473903),\n",
              " (6377471, 13468533),\n",
              " (6402560, 13549094),\n",
              " (6394903, 13515028),\n",
              " (6392842, 13521334),\n",
              " (6386674, 13467914),\n",
              " (6401152, 13509264),\n",
              " (6380530, 13481934),\n",
              " (6385050, 13468374),\n",
              " (6389617, 13517399)]"
            ]
          },
          "metadata": {},
          "execution_count": 15
        }
      ]
    },
    {
      "cell_type": "code",
      "source": [
        "# (6402560,13549094)\n",
        "import numpy as np\n",
        "LP=np.array(L2)\n",
        "print(\"Para P01\")\n",
        "print(\"La mejor solución es:\")\n",
        "print(mejor_solucion(L2))\n",
        "print(\"La solucion promedio es: \")\n",
        "print(np.mean(L2,axis=0))\n",
        "print(\"La desviación estandar es: \")\n",
        "print(np.std(L2,axis=0))\n",
        "print(\"La diferencia entre el optimo y el mejor es: \")\n",
        "print(6402560-mejor_solucion(L2)[0],13549094-mejor_solucion(L2)[1])\n",
        "print(\"La diferencia ente el optimo y el promedio es: \")\n",
        "print(6402560-np.mean(L2,axis=0)[0],13549094-np.mean(L2,axis=0)[1])"
      ],
      "metadata": {
        "colab": {
          "base_uri": "https://localhost:8080/"
        },
        "id": "EjRuKktK13MU",
        "outputId": "2948c1f8-35a9-43f2-bc6c-65e0bf32b733"
      },
      "execution_count": 14,
      "outputs": [
        {
          "output_type": "stream",
          "name": "stdout",
          "text": [
            "Para P01\n",
            "La mejor solución es:\n",
            "(6389617, 13517399)\n",
            "La solucion promedio es: \n",
            "[ 6393793.9        13497754.73333333]\n",
            "La desviación estandar es: \n",
            "[ 7544.30268635 23950.8289278 ]\n",
            "La diferencia entre el optimo y el mejor es: \n",
            "12943 31695\n",
            "La diferencia ente el optimo y el promedio es: \n",
            "8766.099999999627 51339.266666667536\n"
          ]
        }
      ]
    }
  ]
}