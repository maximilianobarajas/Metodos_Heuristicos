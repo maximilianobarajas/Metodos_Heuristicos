{
 "cells": [
  {
   "cell_type": "code",
   "execution_count": 2,
   "metadata": {},
   "outputs": [],
   "source": [
    "import numpy as np\n",
    "def vector_aleatorio_normal(d):\n",
    "  return np.random.normal(loc= 0,scale=1,size=d) \n",
    "def vector_aleatorio_normal_en_el_espacio_de_x(x,s,d):\n",
    "    return np.random.normal(scale=s,size=d)\n",
    "def ackley(a,b,c,d,x):\n",
    "  suma1=0\n",
    "  for i in x:\n",
    "    suma1=suma1+i**2\n",
    "  suma2=0\n",
    "  for i in x:\n",
    "    suma2=suma2+np.cos(c*i)\n",
    "  return -a*np.exp(-b*np.sqrt(1/d *suma1))-np.exp(1/d*suma2)+a+np.exp(1)\n",
    "#Recommended variable values are: a = 20, b = 0.2 and c = 2π.\n",
    "#Creamos una función correr la cual recibe como parámetros una dimensión como la cantidad de iteraciones que queremos que utilice\n",
    "def localackley(n,d,s):\n",
    "  #Iniciamos la imagen minima como el vector que la induce\n",
    "  imagen=np.inf\n",
    "  xfinal=np.zeros(d)\n",
    "  x=vector_aleatorio_normal(d)\n",
    "  #Realizamos el problema n veces\n",
    "  for i in range(n):\n",
    "    x=vector_aleatorio_normal_en_el_espacio_de_x(x,s,d)\n",
    "    #Nuevamente, si la imagen de la iteración actual es menor a la anteriormente encontrada reasignamos la variable y guardamos el vector que la induce\n",
    "    f=ackley(20,0.2,2*np.pi,d,x)\n",
    "    if(f<imagen):\n",
    "      imagen=ackley(20,0.2,2*np.pi,d,x)\n",
    "      xfinal=x\n",
    "  #Regresamos la imagen y el vector que la induce en una lista    \n",
    "  return [imagen,xfinal]\n",
    "\n",
    "def localackley_alterado(s,iteraciones,repeticiones,d):\n",
    "  mejor=np.inf\n",
    "  for i in range(repeticiones):\n",
    "    A=localackley(iteraciones,d,s)\n",
    "    if(A[0]<mejor):\n",
    "        mejor=A[0]\n",
    "        x=A[1]\n",
    "  return (mejor,x)\n",
    "\n",
    "def tabular_ackley_30_veces(s,iteraciones,repeticiones,d):\n",
    "  L=[]\n",
    "  for i in range(30):\n",
    "    L.append(localackley_alterado(s,iteraciones,repeticiones,d))\n",
    "  print(L)\n",
    "  return L\n"
   ]
  },
  {
   "cell_type": "code",
   "execution_count": 3,
   "metadata": {},
   "outputs": [
    {
     "name": "stdout",
     "output_type": "stream",
     "text": [
      "[(0.006308734666614857, array([-0.00056065, -0.00012919, -0.00210066,  0.00010699, -0.00036119,\n",
      "        0.00274568, -0.00189606, -0.000302  ,  0.00251182,  0.00120926])), (0.008084960367505278, array([ 0.0003745 ,  0.00110309,  0.00273491, -0.00216475, -0.00130434,\n",
      "        0.0022903 ,  0.00204057,  0.00327143,  0.00183856, -0.00027709])), (0.007669164559516606, array([-0.00473467,  0.00018333,  0.00231955,  0.00078875, -0.00111267,\n",
      "        0.00038451, -0.00031563, -0.00029997, -0.00210672,  0.00072686])), (0.006718122250547243, array([-0.00315366,  0.00273345,  0.00080236, -0.00142768,  0.00042767,\n",
      "        0.00070711, -0.00067338, -0.00088528, -0.00221033,  0.00032884])), (0.008015578903329601, array([-0.00058872,  0.00207455, -0.00309268, -0.00222986, -0.00326453,\n",
      "       -0.00093207, -0.00177502,  0.00193785, -0.00029955, -0.00066142])), (0.007291809483430445, array([ 0.00016687,  0.00175028, -0.00438107,  0.00091011,  0.002244  ,\n",
      "        0.00092571,  0.00063908, -0.00089146,  0.00090519,  0.00082575])), (0.007854994096448298, array([-0.00117515,  0.00175425,  0.00236614, -0.00065556,  0.00109229,\n",
      "       -0.00054319, -0.00250124,  0.00085867,  0.00292902, -0.00302025])), (0.008357477719834083, array([-0.00029157,  0.00069367, -0.00223743, -0.00146673, -0.00088576,\n",
      "        0.00092954, -0.0016445 , -0.00360491, -0.00290254,  0.00280823])), (0.00670220290038559, array([ 0.00170046, -0.00019652,  0.00025468, -0.00062821,  0.00107068,\n",
      "       -0.00166412,  0.00035216,  0.00365289,  0.00115026, -0.00218903])), (0.006502419341036347, array([ 0.00117193, -0.00302218,  0.00125869,  0.00016293, -0.00034864,\n",
      "       -0.00102525,  0.0007233 , -0.00260534, -0.00099005,  0.00193873])), (0.006682746027565134, array([-0.00057938,  0.00208467, -0.00014894,  0.00115112, -0.0022472 ,\n",
      "        0.0023143 ,  0.00030448, -0.00181632,  0.00101119, -0.00242618])), (0.007263911070400031, array([-0.00172221, -0.00110577,  0.00052038, -0.00028101,  0.00158017,\n",
      "        0.00016782, -0.00085792, -0.00281314, -0.00394286, -0.00046251])), (0.007551036383045773, array([ 0.00084896, -0.00195872,  0.00048788,  0.00294023, -0.00069534,\n",
      "       -0.0024845 , -0.00061587, -0.00189967, -0.00022047,  0.00313322])), (0.007075927476261956, array([ 0.00017019, -0.00063122, -0.00058342,  0.00069212, -0.00378887,\n",
      "        0.0021513 ,  0.00212524, -0.00164361,  0.00116255,  0.00104898])), (0.008233942322054322, array([-0.00076634, -0.00228529,  0.0001093 , -0.00234316, -0.00107274,\n",
      "        0.00162712, -0.00111803,  0.00482709,  0.00071999, -0.00013905])), (0.0076146609106513274, array([-0.00304197,  0.00154559,  0.00185303, -0.00211544,  0.00310473,\n",
      "        0.00073011, -0.00197387, -0.00040964, -0.00054396, -0.00065397])), (0.007452103242294061, array([ 0.00177874, -0.00222325, -0.00277432,  0.00027801,  0.00128887,\n",
      "       -0.00021239,  0.00354895, -0.00131989, -0.00102766,  0.00032609])), (0.0071330945792458245, array([ 3.72405897e-03,  3.16880063e-03,  7.17386996e-04,  4.34309126e-04,\n",
      "       -1.27526323e-04,  1.34544721e-03, -4.32202000e-04, -2.18041113e-04,\n",
      "        8.23244336e-06,  1.92370694e-03])), (0.007742459454651129, array([-2.58557790e-03, -2.75951604e-03,  3.58041757e-03,  1.05296038e-03,\n",
      "       -1.49008525e-03,  8.47781874e-04,  9.24982177e-05, -1.39669415e-03,\n",
      "        6.98943481e-04, -1.42687414e-03])), (0.007438892838344646, array([-0.000188  ,  0.00226315,  0.00015103, -0.00159154, -0.00196369,\n",
      "       -0.00026306,  0.00166336,  0.00303889,  0.00105267,  0.00286778])), (0.007015316655416104, array([-0.00242119, -0.00132104, -0.00101413,  0.00059557,  0.00275131,\n",
      "        0.00291145,  0.00143007,  0.00066775,  0.00065097, -0.00120418])), (0.008783299990011262, array([ 0.00320525, -0.0009744 , -0.00313049,  0.00095308, -0.00409004,\n",
      "        0.00147887,  0.00076298, -0.00138749, -0.00095598, -0.00114887])), (0.006765826377517659, array([-0.00017043,  0.00181584, -0.00122927,  0.00194815,  0.0005103 ,\n",
      "        0.00138239, -0.00063924,  0.00233454,  0.00257235,  0.00202734])), (0.008472364828226109, array([-0.00225074, -0.00080677,  0.00172848, -0.00030637, -0.00290867,\n",
      "       -0.00205213,  0.00389495,  0.0004046 ,  0.00224378,  0.00081219])), (0.007812388895921618, array([ 0.00161717, -0.00206357,  0.00160732, -0.00131823, -0.00099802,\n",
      "       -0.0022888 , -0.00392092, -0.00011697, -0.00076734, -0.00169613])), (0.0063302547498449435, array([ 0.00165632,  0.00309455,  0.00045639, -0.00202271,  0.00139278,\n",
      "        0.00166947, -0.00021245, -0.00020466, -0.00037547, -0.00157096])), (0.009028118068866053, array([ 0.00136268,  0.00150087, -0.00187774,  0.00219274,  0.00350384,\n",
      "       -0.00255303,  0.0011753 ,  0.00190494,  0.00173928, -0.00296968])), (0.006660345163706172, array([-0.00033271, -0.00269497, -0.00156747,  0.00166055, -0.00260885,\n",
      "        0.00118135, -0.00151078,  0.0008506 , -0.00067758,  0.00151833])), (0.007668310673729639, array([ 2.24558957e-03,  3.22049990e-03,  5.43068991e-04, -3.13694915e-05,\n",
      "       -5.69627699e-04, -2.68882744e-03,  3.14032391e-03,  1.07170926e-03,\n",
      "       -1.80765973e-05, -8.44164268e-04])), (0.006360439777925553, array([ 0.00374272, -0.00094712,  0.00068521, -0.00067827,  0.00082297,\n",
      "       -0.00020284,  0.00096197,  0.00199295,  0.00114657, -0.00122581]))]\n"
     ]
    }
   ],
   "source": [
    "sol=tabular_ackley_30_veces(0.01,10000,100,10)"
   ]
  },
  {
   "cell_type": "code",
   "execution_count": 4,
   "metadata": {},
   "outputs": [
    {
     "name": "stdout",
     "output_type": "stream",
     "text": [
      "0.007333387765428245\n",
      "La imagen media es:  0.007238864615800337\n",
      "La desviación estandar de las imágenes es: 0.0007889672898097465\n",
      "La media de las coordenadas es: [ 4.12196649e-04  1.65928595e-04  1.10796959e-04 -6.14235389e-05\n",
      "  2.37004801e-04 -1.33172748e-04 -2.37662680e-04  3.59879292e-04\n",
      "  2.44221660e-04 -4.48225126e-04]\n",
      "La desviación estandar de las coordenadas es: [0.0016903  0.0016441  0.00172532 0.00174459 0.00148312 0.0018021\n",
      " 0.00180197 0.00206356 0.00175628 0.00179968]\n",
      "El mejor minimo encontrado fue:  0.004824534463420793\n",
      "La diferencia entre el real y el mejor encontrado es:  -0.004824534463420793\n"
     ]
    }
   ],
   "source": [
    "import statistics as st\n",
    "#Ahora encontramos la media de las imágenes y cada coordenada\n",
    "import numpy as np\n",
    "imagenesackley=[]\n",
    "coordenadas=[]\n",
    "for i in sol:\n",
    "    imagenesackley.append(i[0])\n",
    "    coordenadas.append(i[1])\n",
    "print(imagenesackley[0])\n",
    "print(\"La imagen media es: \", st.mean(imagenesackley))\n",
    "print(\"La desviación estandar de las imágenes es:\", st.stdev(imagenesackley))\n",
    "print(\"La media de las coordenadas es:\", np.mean(coordenadas,axis=0))\n",
    "print(\"La desviación estandar de las coordenadas es:\",np.std(coordenadas,axis=0))\n",
    "print(\"El mejor minimo encontrado fue: \", min(imagenesackley))\n",
    "print(\"La diferencia entre el real y el mejor encontrado es: \", 0-min(imagenesackley))"
   ]
  }
 ],
 "metadata": {
  "kernelspec": {
   "display_name": "Python 3.10.8 64-bit (microsoft store)",
   "language": "python",
   "name": "python3"
  },
  "language_info": {
   "codemirror_mode": {
    "name": "ipython",
    "version": 3
   },
   "file_extension": ".py",
   "mimetype": "text/x-python",
   "name": "python",
   "nbconvert_exporter": "python",
   "pygments_lexer": "ipython3",
   "version": "3.10.8"
  },
  "orig_nbformat": 4,
  "vscode": {
   "interpreter": {
    "hash": "f8ca15d83b6fb72cece3edcf60f6aa40d2cbdeb5c60e0f188ff8c7c65828fd00"
   }
  }
 },
 "nbformat": 4,
 "nbformat_minor": 2
}
